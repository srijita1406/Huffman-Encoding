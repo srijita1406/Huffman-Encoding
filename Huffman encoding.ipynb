{
 "cells": [
  {
   "cell_type": "code",
   "execution_count": 7,
   "id": "5608a6b6",
   "metadata": {},
   "outputs": [],
   "source": [
    "def distribution():\n",
    "    d={'A':0.08,'B':0.11,'C':0.23,'D':0.05,'E':0.07,'F':0.18,'G':0.02,'H':0.15,'I':0.01,'J':0.10}\n",
    "    return d"
   ]
  },
  {
   "cell_type": "code",
   "execution_count": 5,
   "id": "9de7aca5",
   "metadata": {},
   "outputs": [],
   "source": [
    "def spit():\n",
    "    \"\"\"This function will respect the distribution function and give you a\n",
    "    letter non-uniformly at random. Note that everytime you call this function,\n",
    "    it will just give you one letter (capital).\"\"\"\n",
    "    for key in d:\n",
    "        for j in range(int(d[key]*100)):\n",
    "            t+=key\n",
    "    return random.choice(t)       \n"
   ]
  },
  {
   "cell_type": "code",
   "execution_count": 6,
   "id": "e7382fae",
   "metadata": {},
   "outputs": [],
   "source": [
    "def create_file(n):\n",
    "    \"\"\"This function will create a file by name output.txt which will contain\n",
    "    letters picked respecting the given distribution. The file will have n\n",
    "    number of entries\"\"\"\n",
    "    f= open(\"output.txt\",\"w\")\n",
    "    s=''\n",
    "    for i in range(n):\n",
    "        s+=spit(distribution())\n",
    "    f.write(s)\n",
    "    f.close()\n"
   ]
  },
  {
   "cell_type": "code",
   "execution_count": 9,
   "id": "60615f3f",
   "metadata": {},
   "outputs": [
    {
     "name": "stdout",
     "output_type": "stream",
     "text": [
      "((((('I', 'G'), 'D'), 'J'), 'C'), (('B', 'H'), (('E', 'A'), 'F')))\n",
      "{'I': '00000', 'G': '00001', 'D': '0001', 'J': '001', 'C': '01', 'B': '100', 'H': '101', 'E': '1100', 'A': '1101', 'F': '111'}\n"
     ]
    }
   ],
   "source": [
    "   \n",
    "def binary_encoding(d):\n",
    "    \"\"\"This will consider the dictionary d given to us by the function -\n",
    "    distribution. This function will output another dictionary b which stands\n",
    "    for encoding. For example b={'A':1001,'B':110,... and so on}. Note that you\n",
    "    only need to provide some encoding which is unambiguous. We dont want to\n",
    "    think of the best possible solution at this point of time. \"\"\"\n",
    "    def binary_encoding():\n",
    "        d=distribution()\n",
    "        b_d={}\n",
    "        b_d['a']='0'\n",
    "        sums='0'\n",
    "        for i in d:\n",
    "            if i!='a':\n",
    "                sums='1'+sums\n",
    "                b_d[i]=sums\n",
    "        return b_d\n",
    "#print(binary_encoding())\n",
    "\n",
    "def two_min(d):\n",
    "    l=sorted(d,key=lambda x:d[x],reverse=False)\n",
    "    new_key=(l[0],l[1])\n",
    "    min1=d[l[0]]\n",
    "    min2=d[l[1]]\n",
    "    minval=min1+min2\n",
    "    del d[l[0]]\n",
    "    del d[l[1]]\n",
    "    d[new_key]=minval\n",
    "    return\n",
    "    \n",
    "def encoding():\n",
    "    d=distribution()\n",
    "    count=0\n",
    "    for i in d.keys():\n",
    "        count+=1\n",
    "    for i in range(count-1):\n",
    "        two_min(d)\n",
    "    for keys in d:\n",
    "        return keys\n",
    "\n",
    "print(encoding())\n",
    "\n",
    "t=encoding()\n",
    "b_dd={}\n",
    "def binary_encoding(t,s):\n",
    "    if type(t)==str:\n",
    "        if not s:\n",
    "            s='0'\n",
    "        b_dd[t[0]]=s\n",
    "    else:\n",
    "        binary_encoding(t[0],s=s+'0')\n",
    "        binary_encoding(t[1],s=s+'1')\n",
    "    return b_dd\n",
    "print(binary_encoding(t,''))\n",
    "    \n"
   ]
  },
  {
   "cell_type": "code",
   "execution_count": null,
   "id": "f633a538",
   "metadata": {},
   "outputs": [],
   "source": []
  }
 ],
 "metadata": {
  "kernelspec": {
   "display_name": "Python 3",
   "language": "python",
   "name": "python3"
  },
  "language_info": {
   "codemirror_mode": {
    "name": "ipython",
    "version": 3
   },
   "file_extension": ".py",
   "mimetype": "text/x-python",
   "name": "python",
   "nbconvert_exporter": "python",
   "pygments_lexer": "ipython3",
   "version": "3.8.8"
  }
 },
 "nbformat": 4,
 "nbformat_minor": 5
}
